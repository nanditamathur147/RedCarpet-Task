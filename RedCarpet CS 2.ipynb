{
 "cells": [
  {
   "cell_type": "markdown",
   "metadata": {},
   "source": [
    "Monthly P/L Calculation"
   ]
  },
  {
   "cell_type": "code",
   "execution_count": 53,
   "metadata": {},
   "outputs": [],
   "source": [
    "# given values per card \n",
    "avg_card_balance=1000\n",
    "int_rate= 15/100\n",
    "membership_fee=20\n",
    "loss_rate=3/100\n",
    "operating_cost=25\n",
    "affiliation_cost= 10\n",
    "cost_of_funds=6.5/100\n",
    "num_of_customers = 1000\n",
    "#bill/statement is issued on 1st of every month\n",
    "#credit-free period = 15 days from the bill/statement issue date.\n"
   ]
  },
  {
   "cell_type": "code",
   "execution_count": 66,
   "metadata": {},
   "outputs": [
    {
     "name": "stdout",
     "output_type": "stream",
     "text": [
      "7240.000000000116\n"
     ]
    }
   ],
   "source": [
    "#Scenario 1\n",
    "#for top 40%\n",
    "daily_int_rate = 0\n",
    "interest1 = 0*15\n",
    "ttl_revenue1 = interest1 + membership_fee\n",
    "#for next 40%\n",
    "daily_int_rate = int_rate/30 \n",
    "interest2 = 30*(avg_card_balance * daily_int_rate)\n",
    "ttl_revenue2 = interest2 + membership_fee\n",
    "#for next 17%\n",
    "daily_int_rate = int_rate/30 \n",
    "interest3 = 45*(avg_card_balance * daily_int_rate)\n",
    "ttl_revenue3 = interest3 + membership_fee\n",
    "#for next 3%\n",
    "daily_int_rate = int_rate/30 \n",
    "interest4 = 60*(avg_card_balance * daily_int_rate)\n",
    "ttl_revenue4 = interest4 + membership_fee\n",
    "ttl_expense_1 = (loss_rate*num_of_customers * avg_card_balance) + operating_cost*num_of_customers + affiliation_cost + (avg_card_balance * cost_of_funds*num_of_customers) \n",
    "net_monthly_profit_1 = (0.40*ttl_revenue1 + 0.40*ttl_revenue2 + 0.17*ttl_revenue3 + 0.03*ttl_revenue4)*num_of_customers - ttl_expense_1\n",
    "print(net_monthly_profit_1)"
   ]
  },
  {
   "cell_type": "code",
   "execution_count": 65,
   "metadata": {},
   "outputs": [
    {
     "name": "stdout",
     "output_type": "stream",
     "text": [
      "10063.530701754402\n"
     ]
    }
   ],
   "source": [
    "#Scenario 2\n",
    "n=4 #compounded quarterly\n",
    "annual_card_balance = 0\n",
    "annual_membership_fee = 0\n",
    "\n",
    "for i in range (12):\n",
    "    card_balance = 1000*(1+(5/100)**i)\n",
    "    annual_card_balance += card_balance\n",
    "    membership_fee = 20*(1+(5/100)**i)\n",
    "    annual_membership_fee += membership_fee\n",
    "\n",
    "annual_int_rate= int_rate*12\n",
    "annual_interest = annual_card_balance*(1+annual_int_rate/n)**n\n",
    "#for top 40%\n",
    "daily_int_rate = 0\n",
    "interest1 = 0*15\n",
    "#for top 40%\n",
    "daily_int_rate = int_rate/30 \n",
    "interest2 = 30*(annual_card_balance/12 * daily_int_rate)\n",
    "#for next 17%\n",
    "daily_int_rate = int_rate/30 \n",
    "interest3 = 45*(annual_card_balance/12 * daily_int_rate)\n",
    "#for next 3%\n",
    "daily_int_rate = int_rate/30 \n",
    "interest4 = 60*(annual_card_balance/12 * daily_int_rate)\n",
    "annual_ttl_revenue = (0.4*interest1 + 0.4*interest2 + 0.17*interest3 + 0.03*interest4)*num_of_customers*12 + annual_membership_fee*num_of_customers\n",
    "annual_ttl_expense = (loss_rate*num_of_customers * annual_card_balance) + operating_cost*num_of_customers*12 + affiliation_cost*12 + (avg_card_balance * cost_of_funds) + (annual_card_balance*num_of_customers*cost_of_funds)\n",
    "annual_profit = annual_ttl_revenue - annual_ttl_expense\n",
    "net_monthly_profit_2 = annual_profit/12\n",
    "print (net_monthly_profit_2)"
   ]
  },
  {
   "cell_type": "markdown",
   "metadata": {},
   "source": [
    "Answer 1"
   ]
  },
  {
   "cell_type": "code",
   "execution_count": 76,
   "metadata": {},
   "outputs": [
    {
     "name": "stdout",
     "output_type": "stream",
     "text": [
      "6.032830597450309\n"
     ]
    }
   ],
   "source": [
    "#Scenario 1\n",
    "Profit_percent1 = (net_monthly_profit_1*12)/(ttl_expense_1*12)*100\n",
    "print(Profit_percent1)"
   ]
  },
  {
   "cell_type": "code",
   "execution_count": 77,
   "metadata": {},
   "outputs": [
    {
     "name": "stdout",
     "output_type": "stream",
     "text": [
      "7.840770324412509\n"
     ]
    }
   ],
   "source": [
    "#Scenario 2\n",
    "Profit_percent2 = (annual_profit/annual_ttl_expense)*100\n",
    "print(Profit_percent2)"
   ]
  },
  {
   "cell_type": "markdown",
   "metadata": {},
   "source": [
    "Answer 2"
   ]
  },
  {
   "cell_type": "code",
   "execution_count": 69,
   "metadata": {},
   "outputs": [
    {
     "name": "stdout",
     "output_type": "stream",
     "text": [
      "60000.0\n"
     ]
    }
   ],
   "source": [
    "#defn 1\n",
    "#loss_rate = (num_defaulters/num_of_customers)*100%\n",
    "balance = 2000\n",
    "num_defaulters = loss_rate*num_of_customers\n",
    "loss1 = num_defaulters*balance\n",
    "print(loss1)"
   ]
  },
  {
   "cell_type": "code",
   "execution_count": 70,
   "metadata": {},
   "outputs": [
    {
     "name": "stdout",
     "output_type": "stream",
     "text": [
      "60000.0\n"
     ]
    }
   ],
   "source": [
    "#defn 2\n",
    "#loss_rate = (chargeoff amount/total amount lended)*100%\n",
    "balance = 2000\n",
    "total_lended = balance*num_of_customers\n",
    "chargeoff = loss_rate*total_lended\n",
    "loss2 = chargeoff\n",
    "print (loss2)"
   ]
  },
  {
   "cell_type": "markdown",
   "metadata": {},
   "source": [
    "Answer 3 - In Doc"
   ]
  },
  {
   "cell_type": "markdown",
   "metadata": {},
   "source": [
    "Answer 4"
   ]
  },
  {
   "cell_type": "code",
   "execution_count": 86,
   "metadata": {},
   "outputs": [
    {
     "data": {
      "text/plain": [
       "66880.0000000014"
      ]
     },
     "execution_count": 86,
     "metadata": {},
     "output_type": "execute_result"
    }
   ],
   "source": [
    "#Scenario 1\n",
    "new_annual_profit_1 = (net_monthly_profit_1*12)- (20*num_of_customers)\n",
    "new_annual_profit_1"
   ]
  },
  {
   "cell_type": "code",
   "execution_count": 87,
   "metadata": {},
   "outputs": [
    {
     "data": {
      "text/plain": [
       "100762.36842105282"
      ]
     },
     "execution_count": 87,
     "metadata": {},
     "output_type": "execute_result"
    }
   ],
   "source": [
    "#Scenario 2\n",
    "new_annual_profit_2 = (net_monthly_profit_2*12)- (20*num_of_customers)\n",
    "new_annual_profit_2"
   ]
  },
  {
   "cell_type": "markdown",
   "metadata": {},
   "source": [
    "Answer 5"
   ]
  },
  {
   "cell_type": "markdown",
   "metadata": {},
   "source": [
    "To keep the affiliate comapny from leaving, we must increse the money we pay to them for affiliation. \n",
    "To find the maximum cost we can partake, we must make our net profit = 0, i.e., (total expense = total revenue)\n"
   ]
  },
  {
   "cell_type": "code",
   "execution_count": 83,
   "metadata": {},
   "outputs": [
    {
     "name": "stdout",
     "output_type": "stream",
     "text": [
      "72186\n"
     ]
    }
   ],
   "source": [
    "#Scenario 1\n",
    "new_affiliation_cost=10\n",
    "ttl_revenue = (0.40*ttl_revenue1 + 0.40*ttl_revenue2 + 0.17*ttl_revenue3 + 0.03*ttl_revenue4)*num_of_customers\n",
    "ttl_expense = (loss_rate*num_of_customers * avg_card_balance) + operating_cost*num_of_customers + 10 + (avg_card_balance * cost_of_funds)\n",
    "diff = ttl_revenue - ttl_expense\n",
    "while diff> 0:\n",
    "    new_affiliation_cost += 1\n",
    "    ttl_expense = (loss_rate*num_of_customers * avg_card_balance) + operating_cost*num_of_customers + new_affiliation_cost + (avg_card_balance * cost_of_funds)\n",
    "    diff = ttl_revenue - ttl_expense\n",
    "print(new_affiliation_cost)"
   ]
  },
  {
   "cell_type": "code",
   "execution_count": 84,
   "metadata": {},
   "outputs": [
    {
     "name": "stdout",
     "output_type": "stream",
     "text": [
      "666\n"
     ]
    }
   ],
   "source": [
    "#Scenario 2\n",
    "new_affiliation_cost_2=10\n",
    "annual_ttl_expense = (loss_rate*num_of_customers * annual_card_balance) + operating_cost*num_of_customers*12 + 10*12 + (avg_card_balance * cost_of_funds) + (annual_card_balance*num_of_customers*cost_of_funds)\n",
    "annual_ttl_revenue = (0.4*interest1 + 0.4*interest2 + 0.17*interest3 + 0.03*interest4)*num_of_customers*12 + annual_membership_fee*num_of_customers\n",
    "diff_2 = annual_ttl_revenue - annual_ttl_expense\n",
    "while diff_2>0:\n",
    "    new_affiliation_cost_2 += 1\n",
    "    annual_ttl_expense = (loss_rate*num_of_customers * annual_card_balance) + operating_cost*num_of_customers*12 + new_affiliation_cost_2*12 + (avg_card_balance * cost_of_funds) + (annual_card_balance*num_of_customers*cost_of_funds)\n",
    "    diff_2 = annual_ttl_revenue - annual_ttl_expense\n",
    "print (new_affiliation_cost_2)"
   ]
  },
  {
   "cell_type": "markdown",
   "metadata": {},
   "source": [
    "Answer 6 - In Doc"
   ]
  },
  {
   "cell_type": "markdown",
   "metadata": {},
   "source": [
    "Answer 7"
   ]
  },
  {
   "cell_type": "code",
   "execution_count": 85,
   "metadata": {},
   "outputs": [
    {
     "data": {
      "text/plain": [
       "122.50000000000001"
      ]
     },
     "execution_count": 85,
     "metadata": {},
     "output_type": "execute_result"
    }
   ],
   "source": [
    "#Case 1\n",
    "daily_interest_rate = (15/100)/30\n",
    "num_days_of_default = 45\n",
    "money_retrieved = 100*(1+daily_interest_rate*num_days_of_default)\n",
    "money_retrieved\n"
   ]
  },
  {
   "cell_type": "code",
   "execution_count": null,
   "metadata": {},
   "outputs": [],
   "source": []
  }
 ],
 "metadata": {
  "kernelspec": {
   "display_name": "Python 3",
   "language": "python",
   "name": "python3"
  },
  "language_info": {
   "codemirror_mode": {
    "name": "ipython",
    "version": 3
   },
   "file_extension": ".py",
   "mimetype": "text/x-python",
   "name": "python",
   "nbconvert_exporter": "python",
   "pygments_lexer": "ipython3",
   "version": "3.7.6"
  }
 },
 "nbformat": 4,
 "nbformat_minor": 4
}
